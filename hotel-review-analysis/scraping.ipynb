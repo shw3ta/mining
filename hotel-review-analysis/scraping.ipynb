{
 "cells": [
  {
   "cell_type": "markdown",
   "metadata": {},
   "source": [
    "## In this notebook we use Selenium to scrape information about hotels from booking.com"
   ]
  },
  {
   "cell_type": "code",
   "execution_count": 1,
   "metadata": {},
   "outputs": [],
   "source": [
    "from selenium import webdriver\n",
    "import pandas as pd\n",
    "from tqdm import tqdm\n",
    "import time"
   ]
  },
  {
   "cell_type": "code",
   "execution_count": 2,
   "metadata": {},
   "outputs": [],
   "source": [
    "PATH = r\"C:\\Users\\dhruv\\Desktop\\ASP Sem 2\\Data Mining and Warehousing\\Assignment 3\\chromedriver.exe\""
   ]
  },
  {
   "cell_type": "code",
   "execution_count": 3,
   "metadata": {},
   "outputs": [],
   "source": [
    "# Download driver from: https://sites.google.com/a/chromium.org/chromedriver/downloads\n",
    "driver = webdriver.Chrome(PATH)"
   ]
  },
  {
   "cell_type": "code",
   "execution_count": 9,
   "metadata": {},
   "outputs": [],
   "source": [
    "cities = ['Bangkok', 'Singapore', 'Kuala Lumpur']\n",
    "cityLinks = ['https://www.booking.com/searchresults.en-gb.html?label=gen173nr-1DCAEoggI46AdIM1gEaGyIAQGYAQm4ARfIAQzYAQPoAQGIAgGoAgO4Ar799oMGwAIB0gIkNzNjMmVmNTQtNjg2ZS00MzliLWE5Y2UtYzYyYjQzYTk4YzZh2AIE4AIB&sid=e239bbaa493be059b02e5d8aa24e9c5e&sb=1&sb_lp=1&src=index&src_elem=sb&error_url=https%3A%2F%2Fwww.booking.com%2Findex.en-gb.html%3Flabel%3Dgen173nr-1DCAEoggI46AdIM1gEaGyIAQGYAQm4ARfIAQzYAQPoAQGIAgGoAgO4Ar799oMGwAIB0gIkNzNjMmVmNTQtNjg2ZS00MzliLWE5Y2UtYzYyYjQzYTk4YzZh2AIE4AIB%3Bsid%3De239bbaa493be059b02e5d8aa24e9c5e%3Bsb_price_type%3Dtotal%26%3B&ss=Bangkok%2C+Bangkok+Province%2C+Thailand&is_ski_area=&checkin_year=&checkin_month=&checkout_year=&checkout_month=&group_adults=2&group_children=0&no_rooms=1&b_h4u_keep_filters=&from_sf=1&ss_raw=bangkok&ac_position=0&ac_langcode=en&ac_click_type=b&dest_id=-3414440&dest_type=city&iata=BKK&place_id_lat=13.755838&place_id_lon=100.505638&search_pageview_id=e45d7b5fb3ab00c1&search_selected=true&search_pageview_id=e45d7b5fb3ab00c1&ac_suggestion_list_length=5&ac_suggestion_theme_list_length=0', 'https://www.booking.com/searchresults.en-gb.html?label=gen173nr-1DCAEoggI46AdIM1gEaGyIAQGYAQm4ARfIAQzYAQPoAQGIAgGoAgO4Aoj-9oMGwAIB0gIkM2Q5ZTJiNDEtOWQxMS00ZjQ0LTk2N2ItMjcyMzU5OTcyMjdh2AIE4AIB&sid=e239bbaa493be059b02e5d8aa24e9c5e&sb=1&sb_lp=1&src=index&src_elem=sb&error_url=https%3A%2F%2Fwww.booking.com%2Findex.en-gb.html%3Flabel%3Dgen173nr-1DCAEoggI46AdIM1gEaGyIAQGYAQm4ARfIAQzYAQPoAQGIAgGoAgO4Aoj-9oMGwAIB0gIkM2Q5ZTJiNDEtOWQxMS00ZjQ0LTk2N2ItMjcyMzU5OTcyMjdh2AIE4AIB%3Bsid%3De239bbaa493be059b02e5d8aa24e9c5e%3Bsb_price_type%3Dtotal%26%3B&ss=Singapore%2C+Singapore&is_ski_area=&checkin_year=&checkin_month=&checkout_year=&checkout_month=&group_adults=2&group_children=0&no_rooms=1&b_h4u_keep_filters=&from_sf=1&ss_raw=Singapore&ac_position=0&ac_langcode=en&ac_click_type=b&dest_id=-73635&dest_type=city&iata=SIN&place_id_lat=1.29045&place_id_lon=103.85204&search_pageview_id=888f7b84e1010061&search_selected=true&search_pageview_id=888f7b84e1010061&ac_suggestion_list_length=5&ac_suggestion_theme_list_length=0', 'https://www.booking.com/searchresults.en-gb.html?label=gen173nr-1DCAEoggI46AdIM1gEaGyIAQGYAQm4ARfIAQzYAQPoAQGIAgGoAgO4Aq7-9oMGwAIB0gIkZGIxNWNiOWItNDQ5ZC00YWI5LWIxZTYtMDQ1MzI4MDUxMzdh2AIE4AIB&sid=e239bbaa493be059b02e5d8aa24e9c5e&sb=1&sb_lp=1&src=index&src_elem=sb&error_url=https%3A%2F%2Fwww.booking.com%2Findex.en-gb.html%3Flabel%3Dgen173nr-1DCAEoggI46AdIM1gEaGyIAQGYAQm4ARfIAQzYAQPoAQGIAgGoAgO4Aq7-9oMGwAIB0gIkZGIxNWNiOWItNDQ5ZC00YWI5LWIxZTYtMDQ1MzI4MDUxMzdh2AIE4AIB%3Bsid%3De239bbaa493be059b02e5d8aa24e9c5e%3Bsb_price_type%3Dtotal%26%3B&ss=Kuala+Lumpur%2C+Kuala+Lumpur+Federal+Territory%2C+Malaysia&is_ski_area=&checkin_year=&checkin_month=&checkout_year=&checkout_month=&group_adults=2&group_children=0&no_rooms=1&b_h4u_keep_filters=&from_sf=1&ss_raw=kuala+lampur&ac_position=0&ac_langcode=en&ac_click_type=b&dest_id=-2403010&dest_type=city&iata=KUL&place_id_lat=3.154051&place_id_lon=101.707714&search_pageview_id=d3497b97ef13011e&search_selected=true&search_pageview_id=d3497b97ef13011e&ac_suggestion_list_length=2&ac_suggestion_theme_list_length=0']\n",
    "data = []"
   ]
  },
  {
   "cell_type": "code",
   "execution_count": 5,
   "metadata": {},
   "outputs": [
    {
     "name": "stderr",
     "output_type": "stream",
     "text": [
      "100%|█████████████████████████████████████████████████████████████████████████████████| 20/20 [51:12<00:00, 153.61s/it]\n"
     ]
    }
   ],
   "source": [
    "for i in range(len(cities)):\n",
    "    cityName = cities[i]\n",
    "    \n",
    "    # Iterate over 20 hotels\n",
    "    for j in tqdm(range(20)):\n",
    "        '''\n",
    "        driver.get(\"https://www.booking.com\")\n",
    "        locationInputElement = driver.find_element_by_id(\"ss\")  # find destination search input box\n",
    "        locationInputElement.send_keys(cityName)  # Input the name of the city\n",
    "        driver.find_element_by_xpath('//*[@id=\"frm\"]/div[1]/div[4]/div[2]/button').click()  # click on \"search\"\n",
    "        '''\n",
    "        driver.get(cityLinks[i])\n",
    "        time.sleep(4)\n",
    "        hotelList = driver.find_elements_by_class_name(\"sr_property_block_main_row\")  # get the list of hotels\n",
    "        \n",
    "        hotelLink = hotelList[j].find_elements_by_tag_name(\"a\")[0].get_attribute(\"href\")\n",
    "        hotelName = hotelList[j].find_element_by_class_name(\"sr-hotel__name\").text\n",
    "        overallRating = hotelList[j].find_element_by_class_name(\"bui-review-score__badge\").text\n",
    "        \n",
    "        driver.get(hotelLink)  # go to the hotel's page\n",
    "        driver.find_element_by_class_name(\"hp_review_score_entry\").find_element_by_tag_name(\"a\").click()  # click on read all reviews\n",
    "        # setting review language to english\n",
    "        driver.find_element_by_id(\"review_lang_filter\").find_element_by_tag_name(\"button\").click()\n",
    "        driver.find_element_by_id(\"review_lang_filter\").find_element_by_class_name(\"bui-dropdown__content\").find_elements_by_tag_name(\"li\")[1].find_element_by_tag_name(\"button\").click()\n",
    "        # setting filter so we get latest reviews first\n",
    "        time.sleep(2)\n",
    "        driver.find_element_by_class_name(\"bui-input-select\").find_elements_by_tag_name(\"option\")[1].click()\n",
    "        \n",
    "        count = 0   # counter to keep track of how many reviews we have stored\n",
    "        check = True  # used to run the while loop\n",
    "        while(check):\n",
    "            time.sleep(5)\n",
    "            reviews = driver.find_elements_by_class_name(\"review_list_new_item_block\")  # read all reviews\n",
    "            for k in range(len(reviews)):\n",
    "                reviews = driver.find_elements_by_class_name(\"review_list_new_item_block\")  # read all reviews\n",
    "                review = reviews[k].find_elements_by_class_name(\"c-review__body\")  # get individual review\n",
    "                # Concatenate the positive and negative reviews\n",
    "                concatenatedReview = ''\n",
    "                for x in range(len(review)):\n",
    "                    concatenatedReview += review[x].text + \". \"\n",
    "                concatenatedReview = concatenatedReview[:-1]\n",
    "                if(concatenatedReview == '.' or concatenatedReview == '. .'):\n",
    "                    print(\"error\")\n",
    "                \n",
    "                if(concatenatedReview == \"This review is hidden because it doesn't meet our guidelines..\" or concatenatedReview == \"This review has been hidden because it doesn't meet our guidelines..\"):\n",
    "                    continue\n",
    "                \n",
    "                try:\n",
    "                    individualRating = reviews[k].find_element_by_class_name(\"bui-review-score__badge\").text  # get individual rating\n",
    "                except:\n",
    "                    reviews = driver.find_elements_by_class_name(\"review_list_new_item_block\")\n",
    "                    individualRating = reviews[k].find_element_by_class_name(\"bui-review-score__badge\").text  # get individual rating\n",
    "                    \n",
    "                if(concatenatedReview == 'There are no comments available for this review.'):  # checking if review is empty\n",
    "                    #print(\"empty\")\n",
    "                    continue  # skip this review\n",
    "                else:\n",
    "                    #creating temp variable to store individual data\n",
    "                    temp = {\"city\": cityName,\n",
    "                            \"hotelName\": hotelName,\n",
    "                            \"overallRating\": overallRating,\n",
    "                            \"individualReview\": concatenatedReview,\n",
    "                            \"individualRating\": individualRating\n",
    "                        }\n",
    "                    # adding temp object to master dataset\n",
    "                    data.append(temp)\n",
    "\n",
    "                    count += 1\n",
    "                    if(count==100):\n",
    "                        check = False\n",
    "                        break\n",
    "            try:\n",
    "                driver.find_element_by_class_name(\"pagenext\").click()  # go to next page\n",
    "            except:\n",
    "                check = False   # If there are no more pages, just move onto the next hotel"
   ]
  },
  {
   "cell_type": "code",
   "execution_count": 7,
   "metadata": {},
   "outputs": [],
   "source": [
    "df = pd.DataFrame(data)"
   ]
  },
  {
   "cell_type": "code",
   "execution_count": 8,
   "metadata": {},
   "outputs": [],
   "source": [
    "df.to_csv('hotels.csv', index=False, encoding='utf-8')"
   ]
  }
 ],
 "metadata": {
  "kernelspec": {
   "display_name": "Python 3",
   "language": "python",
   "name": "python3"
  },
  "language_info": {
   "codemirror_mode": {
    "name": "ipython",
    "version": 3
   },
   "file_extension": ".py",
   "mimetype": "text/x-python",
   "name": "python",
   "nbconvert_exporter": "python",
   "pygments_lexer": "ipython3",
   "version": "3.7.3"
  }
 },
 "nbformat": 4,
 "nbformat_minor": 4
}
