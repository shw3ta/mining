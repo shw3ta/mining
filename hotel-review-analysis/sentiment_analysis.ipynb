{
 "cells": [
  {
   "cell_type": "markdown",
   "metadata": {},
   "source": [
    "## We will use Vader to carry out sentiment analysis. VADER’s SentimentIntensityAnalyzer() takes in a string and returns a dictionary of scores in each of four categories: negative, neutral, positive and compound (computed by normalizing the previous 3 scores)."
   ]
  },
  {
   "cell_type": "code",
   "execution_count": 1,
   "metadata": {},
   "outputs": [],
   "source": [
    "import pandas as pd\n",
    "import nltk\n",
    "from tqdm import tqdm\n",
    "#nltk.download('vader_lexicon')\n",
    "from nltk.sentiment.vader import SentimentIntensityAnalyzer\n",
    "sid = SentimentIntensityAnalyzer()"
   ]
  },
  {
   "cell_type": "code",
   "execution_count": 2,
   "metadata": {},
   "outputs": [],
   "source": [
    "data = pd.read_csv(\"hotels_final.csv\")"
   ]
  },
  {
   "cell_type": "markdown",
   "metadata": {},
   "source": [
    "### Finding the polarity score"
   ]
  },
  {
   "cell_type": "code",
   "execution_count": 5,
   "metadata": {},
   "outputs": [
    {
     "name": "stderr",
     "output_type": "stream",
     "text": [
      "100%|████████████████████████████████████████████████████████████████████████████| 6000/6000 [00:02<00:00, 2250.47it/s]\n"
     ]
    }
   ],
   "source": [
    "allScores = []\n",
    "for i in tqdm(range(len(data))):\n",
    "    review = data['individualReview'][i][:-1]\n",
    "    polarityScore = sid.polarity_scores(review)['compound']\n",
    "    temp = {\"polarityScore\": polarityScore}\n",
    "    allScores.append(temp)"
   ]
  },
  {
   "cell_type": "code",
   "execution_count": 6,
   "metadata": {},
   "outputs": [],
   "source": [
    "df = pd.DataFrame(allScores)\n",
    "final_df = pd.concat([data, df], axis=1)\n",
    "final_df.to_csv('hotels_with_polarity_score.csv', index=False, encoding='utf-8')"
   ]
  },
  {
   "cell_type": "markdown",
   "metadata": {},
   "source": [
    "### Finding the aggregate (mean) of the polarity scores"
   ]
  },
  {
   "cell_type": "code",
   "execution_count": 13,
   "metadata": {},
   "outputs": [],
   "source": [
    "data = pd.read_csv(\"hotels_with_polarity_score.csv\")"
   ]
  },
  {
   "cell_type": "code",
   "execution_count": 14,
   "metadata": {},
   "outputs": [],
   "source": [
    "# First we need to normalize the polarity score so that we get scores between 0 and 10 (like the ratings on booking.com)\n",
    "allScores = []\n",
    "for i in range(len(data)):\n",
    "    score = data['polarityScore'][i]\n",
    "    score = ((score * 10) + 10) / 2\n",
    "    temp = {\"normalizedPolarityScore\": score}\n",
    "    allScores.append(temp)"
   ]
  },
  {
   "cell_type": "code",
   "execution_count": 15,
   "metadata": {},
   "outputs": [],
   "source": [
    "df = pd.DataFrame(allScores)\n",
    "final_df = pd.concat([data, df], axis=1)"
   ]
  },
  {
   "cell_type": "code",
   "execution_count": 31,
   "metadata": {},
   "outputs": [],
   "source": [
    "meanScores = []\n",
    "for h in range(60):\n",
    "    sum = 0\n",
    "    for i in range(100):\n",
    "        sum += final_df['normalizedPolarityScore'][i + 100*h]\n",
    "    mean = sum/100\n",
    "    temp = {\"meanPolarityScore\": mean}\n",
    "    for j in range(100):\n",
    "        meanScores.append(temp)"
   ]
  },
  {
   "cell_type": "code",
   "execution_count": 32,
   "metadata": {},
   "outputs": [],
   "source": [
    "df_mean = pd.DataFrame(meanScores)\n",
    "final_df_2 = pd.concat([final_df, df_mean], axis=1)"
   ]
  },
  {
   "cell_type": "code",
   "execution_count": 51,
   "metadata": {},
   "outputs": [],
   "source": [
    "# Re-arranging the columns to make data easier to understand\n",
    "columns_titles = ['city', 'hotelName', 'overallRating', 'individualReview', 'individualRating', 'polarityScore', 'normalizedPolarityScore', 'meanPolarityScore']\n",
    "final_data=final_df_2.reindex(columns=columns_titles)"
   ]
  },
  {
   "cell_type": "code",
   "execution_count": 59,
   "metadata": {},
   "outputs": [],
   "source": [
    "final_data.to_csv('hotels_with_polarity_score.csv', index=False, encoding='utf-8')"
   ]
  },
  {
   "cell_type": "markdown",
   "metadata": {},
   "source": [
    "The Vader model that we have used for sentiment analyis has two shortcomings:\n",
    "1. Since the algorithm is pre-trained it does not fit perfectly to our data. If we had a training set on a distribution similar to the reviews set, we could have gotten better results.\n",
    "2. The model simply outputs 0 (here 0 means neutral as it is exactly between -1 and 1) for out of vocabulary words. Since the data is not perfectly clean, there are several words that have been misspelt and often customers have used abbreviations (example gr8 for great) to express themselves. This leads to some problems with the scoring.\n",
    "\n",
    "There are two more inherent drawbacks in our scraped data itself that lead to wrong scores being assigned to the reviews. \n",
    "1. On booking.com some of the reviewers have put the positives and negatives separately. For example, a review may be: Positives: Food, view, swimming pool. Negatives: Staff. When we scrape this data we get one single string: \"Food, view, swimming pool. Staff.\". This review now does not make much sense, even though it did make sense on booking.com.\n",
    "2. On several occasions the review does not align with the actual rating provided by the user. For example: review \"good service\" is given a rating of 10, while the review \"fantastic service\" is given the rating of 8. These small subjective changes from review to review lead to deviations between the polarity score assigned by our algorithm and the actual rating provided by the user.             "
   ]
  }
 ],
 "metadata": {
  "kernelspec": {
   "display_name": "Python 3",
   "language": "python",
   "name": "python3"
  },
  "language_info": {
   "codemirror_mode": {
    "name": "ipython",
    "version": 3
   },
   "file_extension": ".py",
   "mimetype": "text/x-python",
   "name": "python",
   "nbconvert_exporter": "python",
   "pygments_lexer": "ipython3",
   "version": "3.8.10"
  }
 },
 "nbformat": 4,
 "nbformat_minor": 4
}
